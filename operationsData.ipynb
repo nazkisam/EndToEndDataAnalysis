{
 "cells": [
  {
   "cell_type": "code",
   "execution_count": 1,
   "metadata": {},
   "outputs": [],
   "source": [
    "import pandas as pd\n",
    "import numpy as np "
   ]
  },
  {
   "cell_type": "code",
   "execution_count": null,
   "metadata": {},
   "outputs": [],
   "source": [
    "df = pd.read_csv('Banking.csv')\n",
    "df"
   ]
  },
  {
   "cell_type": "code",
   "execution_count": null,
   "metadata": {},
   "outputs": [],
   "source": [
    "#lets print the shape of the data frame\n",
    "df.shape\n",
    "\n",
    "#check the DataFrame info\n",
    "df.info()"
   ]
  },
  {
   "cell_type": "code",
   "execution_count": 2,
   "metadata": {},
   "outputs": [
    {
     "ename": "NameError",
     "evalue": "name 'df' is not defined",
     "output_type": "error",
     "traceback": [
      "\u001b[1;31m---------------------------------------------------------------------------\u001b[0m",
      "\u001b[1;31mNameError\u001b[0m                                 Traceback (most recent call last)",
      "Cell \u001b[1;32mIn[2], line 1\u001b[0m\n\u001b[1;32m----> 1\u001b[0m \u001b[43mdf\u001b[49m[\u001b[38;5;124m'\u001b[39m\u001b[38;5;124mEstimated Income\u001b[39m\u001b[38;5;124m'\u001b[39m]\n",
      "\u001b[1;31mNameError\u001b[0m: name 'df' is not defined"
     ]
    }
   ],
   "source": [
    "df['Estimated Income']"
   ]
  },
  {
   "cell_type": "code",
   "execution_count": null,
   "metadata": {},
   "outputs": [],
   "source": [
    "pip install pyodbc\n"
   ]
  },
  {
   "cell_type": "code",
   "execution_count": 7,
   "metadata": {},
   "outputs": [
    {
     "name": "stdout",
     "output_type": "stream",
     "text": [
      "('Microsoft SQL Server 2022 (RTM) - 16.0.1000.6 (X64) \\n\\tOct  8 2022 05:58:25 \\n\\tCopyright (C) 2022 Microsoft Corporation\\n\\tExpress Edition (64-bit) on Windows 10 Home Single Language 10.0 <X64> (Build 19045: ) (Hypervisor)\\n',)\n"
     ]
    }
   ],
   "source": [
    "import pyodbc\n",
    "\n",
    "conn = pyodbc.connect(\n",
    "    r'DRIVER={SQL Server};SERVER=DESKTOP-AQSC85O\\SQLEXPRESS;DATABASE=Banking;Trusted_Connection=yes;'\n",
    ")\n",
    "\n",
    "cursor = conn.cursor()\n",
    "cursor.execute(\"SELECT @@VERSION\")\n",
    "print(cursor.fetchone())\n"
   ]
  },
  {
   "cell_type": "code",
   "execution_count": 8,
   "metadata": {},
   "outputs": [],
   "source": [
    "query = \"SELECT * FROM  Banking\""
   ]
  },
  {
   "cell_type": "code",
   "execution_count": 13,
   "metadata": {},
   "outputs": [
    {
     "data": {
      "text/plain": [
       "'SELECT * FROM  Banking'"
      ]
     },
     "execution_count": 13,
     "metadata": {},
     "output_type": "execute_result"
    }
   ],
   "source": [
    "query"
   ]
  },
  {
   "cell_type": "code",
   "execution_count": 9,
   "metadata": {},
   "outputs": [
    {
     "name": "stderr",
     "output_type": "stream",
     "text": [
      "C:\\Users\\DELL\\AppData\\Local\\Temp\\ipykernel_11944\\785092515.py:1: UserWarning: pandas only supports SQLAlchemy connectable (engine/connection) or database string URI or sqlite3 DBAPI2 connection. Other DBAPI2 objects are not tested. Please consider using SQLAlchemy.\n",
      "  df = pd.read_sql(query,conn)\n"
     ]
    }
   ],
   "source": [
    "df = pd.read_sql(query,conn)"
   ]
  },
  {
   "cell_type": "code",
   "execution_count": 10,
   "metadata": {},
   "outputs": [
    {
     "data": {
      "text/plain": [
       "<function Connection.close>"
      ]
     },
     "execution_count": 10,
     "metadata": {},
     "output_type": "execute_result"
    }
   ],
   "source": [
    "conn.close"
   ]
  },
  {
   "cell_type": "code",
   "execution_count": 11,
   "metadata": {},
   "outputs": [
    {
     "name": "stdout",
     "output_type": "stream",
     "text": [
      "     Client_ID              Name  Age  Location_ID Joined_Bank  \\\n",
      "0     IND81288     Raymond Mills   24        34324  2019-05-06   \n",
      "1     IND65833     Julia Spencer   23        42205  2001-12-10   \n",
      "2     IND47499    Stephen Murray   27         7314  2010-01-25   \n",
      "3     IND72498    Virginia Garza   40        34594  2019-03-28   \n",
      "4     IND60181   Melissa Sanders   46        41269  2012-07-20   \n",
      "...        ...               ...  ...          ...         ...   \n",
      "2995  IND66827         Earl Hall   82         8760  2014-10-09   \n",
      "2996  IND40556  Billy Williamson   44        32837  2009-02-05   \n",
      "2997  IND72414      Victor Black   70        36088  2009-12-29   \n",
      "2998  IND46652       Andrew Ford   56        24871  2006-02-13   \n",
      "2999  IND40216        Amy Nguyen   79        38518  2005-12-08   \n",
      "\n",
      "          Banking_Contact Nationality                     Occupation  \\\n",
      "0          Anthony Torres    American           Safety Technician IV   \n",
      "1        Jonathan Hawkins     African            Software Consultant   \n",
      "2           Anthony Berry    European             Help Desk Operator   \n",
      "3              Steve Diaz    American                   Geologist II   \n",
      "4              Shawn Long    American            Assistant Professor   \n",
      "...                   ...         ...                            ...   \n",
      "2995       Joshua Bennett    American       Accounting Assistant III   \n",
      "2996          Dennis Ruiz    European                      Paralegal   \n",
      "2997          Joshua Ryan    American                Statistician IV   \n",
      "2998  Nicholas Cunningham    European  Human Resources Assistant III   \n",
      "2999           Joe Hanson    American            Biostatistician III   \n",
      "\n",
      "     Fee_Structure Loyalty_Classification  ...  Bank_Deposits  \\\n",
      "0             High                   Jade  ...   1.485829e+06   \n",
      "1             High                   Jade  ...   6.414828e+05   \n",
      "2             High                   Gold  ...   1.033402e+06   \n",
      "3              Mid                 Silver  ...   1.048158e+06   \n",
      "4              Mid               Platinum  ...   4.877825e+05   \n",
      "...            ...                    ...  ...            ...   \n",
      "2995          High                   Gold  ...   1.089957e+06   \n",
      "2996           Mid                   Gold  ...   1.368913e+05   \n",
      "2997           Low                   Jade  ...   2.148609e+05   \n",
      "2998           Mid                   Jade  ...   7.426302e+05   \n",
      "2999          High                   Jade  ...   6.561766e+04   \n",
      "\n",
      "      Checking_Accounts  Saving_Accounts  Foreign_Currency_Account  \\\n",
      "0          6.036179e+05    607332.437500              12249.959961   \n",
      "1          2.295214e+05    344635.156250              61162.308594   \n",
      "2          6.526747e+05    203054.343750              79071.781250   \n",
      "3          1.048158e+06    234685.015625              57513.648438   \n",
      "4          4.466442e+05    128351.453125              30012.140625   \n",
      "...                 ...              ...                       ...   \n",
      "2995       5.328679e+05    657849.625000              12947.309570   \n",
      "2996       5.658174e+04     93195.609375              23205.689453   \n",
      "2997       1.587261e+05     35539.148438              30291.810547   \n",
      "2998       4.046382e+05     56411.328125               6413.140137   \n",
      "2999       7.776908e+04     32371.380859               8992.360352   \n",
      "\n",
      "      Business_Lending  Properties_Owned  Risk_Weighting  BRId  GenderId  IAId  \n",
      "0         1.134475e+06                 1               2     1         1     1  \n",
      "1         2.000526e+06                 1               3     2         1     2  \n",
      "2         5.481376e+05                 1               3     3         2     3  \n",
      "3         1.148402e+06                 0               4     4         1     4  \n",
      "4         1.674412e+06                 0               3     1         2     5  \n",
      "...                ...               ...             ...   ...       ...   ...  \n",
      "2995      1.238860e+06                 1               3     3         2     4  \n",
      "2996      2.771711e+05                 1               2     3         2     5  \n",
      "2997      5.029472e+05                 2               2     3         2     6  \n",
      "2998      1.538369e+06                 3               1     3         2     7  \n",
      "2999      3.294126e+05                 1               1     3         2     8  \n",
      "\n",
      "[3000 rows x 25 columns]\n"
     ]
    }
   ],
   "source": [
    "print(df)"
   ]
  },
  {
   "cell_type": "code",
   "execution_count": null,
   "metadata": {},
   "outputs": [],
   "source": []
  }
 ],
 "metadata": {
  "kernelspec": {
   "display_name": "Python 3",
   "language": "python",
   "name": "python3"
  },
  "language_info": {
   "codemirror_mode": {
    "name": "ipython",
    "version": 3
   },
   "file_extension": ".py",
   "mimetype": "text/x-python",
   "name": "python",
   "nbconvert_exporter": "python",
   "pygments_lexer": "ipython3",
   "version": "3.11.5"
  }
 },
 "nbformat": 4,
 "nbformat_minor": 2
}
